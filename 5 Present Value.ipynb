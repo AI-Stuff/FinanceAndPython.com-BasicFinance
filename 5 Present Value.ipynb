{
 "cells": [
  {
   "cell_type": "code",
   "execution_count": 1,
   "metadata": {
    "collapsed": true
   },
   "outputs": [],
   "source": [
    "def compoundInterest(p,r,t):\n",
    "    A = p*(1+r)**t\n",
    "    return A"
   ]
  },
  {
   "cell_type": "code",
   "execution_count": 2,
   "metadata": {
    "collapsed": true
   },
   "outputs": [],
   "source": [
    "def presentValue(p,r,t):\n",
    "    A = p/(1+r)**t\n",
    "    return A"
   ]
  },
  {
   "cell_type": "code",
   "execution_count": 3,
   "metadata": {
    "collapsed": true
   },
   "outputs": [],
   "source": [
    "principal = 100\n",
    "rate = .08\n",
    "time = 5"
   ]
  },
  {
   "cell_type": "code",
   "execution_count": 4,
   "metadata": {},
   "outputs": [
    {
     "name": "stdout",
     "output_type": "stream",
     "text": [
      "1.4693280768000005\n"
     ]
    }
   ],
   "source": [
    "discount = (1+rate)**time\n",
    "print(discount)"
   ]
  },
  {
   "cell_type": "code",
   "execution_count": 3,
   "metadata": {},
   "outputs": [
    {
     "name": "stdout",
     "output_type": "stream",
     "text": [
      "146.93280768\n"
     ]
    }
   ],
   "source": [
    "future = principal * discount\n",
    "print future"
   ]
  },
  {
   "cell_type": "code",
   "execution_count": 4,
   "metadata": {},
   "outputs": [
    {
     "name": "stdout",
     "output_type": "stream",
     "text": [
      "68.0583197034\n"
     ]
    }
   ],
   "source": [
    "present = principal / discount\n",
    "print present"
   ]
  },
  {
   "cell_type": "code",
   "execution_count": 5,
   "metadata": {},
   "outputs": [
    {
     "name": "stdout",
     "output_type": "stream",
     "text": [
      "True\n",
      "False\n"
     ]
    }
   ],
   "source": [
    "print 5==5\n",
    "print 6==5"
   ]
  },
  {
   "cell_type": "code",
   "execution_count": 6,
   "metadata": {
    "collapsed": true
   },
   "outputs": [],
   "source": [
    "def TVM(p,r,t,type):\n",
    "    discount = (1+r)**t\n",
    "    if type==\"FV\":\n",
    "        A = p*discount\n",
    "        return A\n",
    "    if type==\"PV\":\n",
    "        A = p/discount\n",
    "        return A"
   ]
  },
  {
   "cell_type": "code",
   "execution_count": 7,
   "metadata": {},
   "outputs": [
    {
     "name": "stdout",
     "output_type": "stream",
     "text": [
      "68.0583197034\n",
      "146.93280768\n"
     ]
    }
   ],
   "source": [
    "print TVM(100,.08,5,\"PV\")\n",
    "print TVM(100,.08,5,\"FV\")"
   ]
  }
 ],
 "metadata": {
  "anaconda-cloud": {},
  "kernelspec": {
   "display_name": "Python 3",
   "language": "python",
   "name": "python3"
  },
  "language_info": {
   "codemirror_mode": {
    "name": "ipython",
    "version": 3
   },
   "file_extension": ".py",
   "mimetype": "text/x-python",
   "name": "python",
   "nbconvert_exporter": "python",
   "pygments_lexer": "ipython3",
   "version": "3.6.1"
  }
 },
 "nbformat": 4,
 "nbformat_minor": 1
}
