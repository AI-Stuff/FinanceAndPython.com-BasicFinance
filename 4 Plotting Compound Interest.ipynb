{
 "cells": [
  {
   "cell_type": "code",
   "execution_count": 1,
   "metadata": {
    "collapsed": true
   },
   "outputs": [],
   "source": [
    "def compoundInterest(p,r,t):\n",
    "    A = p*(1+r)**t\n",
    "    return A"
   ]
  },
  {
   "cell_type": "code",
   "execution_count": 2,
   "metadata": {},
   "outputs": [
    {
     "name": "stdout",
     "output_type": "stream",
     "text": [
      "1\n",
      "2\n",
      "3\n",
      "4\n",
      "5\n",
      "6\n",
      "7\n",
      "8\n",
      "9\n",
      "10\n",
      "11\n",
      "12\n",
      "13\n",
      "14\n",
      "15\n",
      "16\n",
      "17\n",
      "18\n",
      "19\n",
      "20\n",
      "21\n",
      "22\n",
      "23\n",
      "24\n",
      "25\n"
     ]
    }
   ],
   "source": [
    "for time in range(1,26):\n",
    "     print(time)"
   ]
  },
  {
   "cell_type": "code",
   "execution_count": 3,
   "metadata": {},
   "outputs": [
    {
     "name": "stdout",
     "output_type": "stream",
     "text": [
      "105.0\n",
      "110.25\n",
      "115.76250000000002\n",
      "121.55062500000003\n",
      "127.62815625000003\n",
      "134.00956406250003\n",
      "140.71004226562505\n",
      "147.7455443789063\n",
      "155.13282159785163\n",
      "162.8894626777442\n",
      "171.0339358116314\n",
      "179.585632602213\n",
      "188.56491423232367\n",
      "197.99315994393987\n",
      "207.89281794113688\n",
      "218.2874588381937\n",
      "229.20183178010342\n",
      "240.66192336910856\n",
      "252.69501953756404\n",
      "265.3297705144422\n",
      "278.59625904016434\n",
      "292.5260719921726\n",
      "307.1523755917812\n",
      "322.5099943713703\n",
      "338.63549408993885\n"
     ]
    }
   ],
   "source": [
    "for time in range(1,26):\n",
    "     print( compoundInterest(100,.05, time) )"
   ]
  },
  {
   "cell_type": "code",
   "execution_count": 4,
   "metadata": {},
   "outputs": [
    {
     "name": "stdout",
     "output_type": "stream",
     "text": [
      "[105.0, 110.25, 115.76250000000002, 121.55062500000003, 127.62815625000003, 134.00956406250003, 140.71004226562505, 147.7455443789063, 155.13282159785163, 162.8894626777442, 171.0339358116314, 179.585632602213, 188.56491423232367, 197.99315994393987, 207.89281794113688, 218.2874588381937, 229.20183178010342, 240.66192336910856, 252.69501953756404, 265.3297705144422, 278.59625904016434, 292.5260719921726, 307.1523755917812, 322.5099943713703, 338.63549408993885]\n",
      "[1, 2, 3, 4, 5, 6, 7, 8, 9, 10, 11, 12, 13, 14, 15, 16, 17, 18, 19, 20, 21, 22, 23, 24, 25]\n"
     ]
    }
   ],
   "source": [
    "values = [] \n",
    "years = [] \n",
    "for time in range(1,26): \n",
    "    values.append(compoundInterest(100,.05, time)) \n",
    "    years.append(time) \n",
    "print(values) \n",
    "print(years)"
   ]
  },
  {
   "cell_type": "code",
   "execution_count": 5,
   "metadata": {},
   "outputs": [
    {
     "name": "stdout",
     "output_type": "stream",
     "text": [
      "[100, 105.0, 110.25, 115.76250000000002, 121.55062500000003, 127.62815625000003, 134.00956406250003, 140.71004226562505, 147.7455443789063, 155.13282159785163, 162.8894626777442, 171.0339358116314, 179.585632602213, 188.56491423232367, 197.99315994393987, 207.89281794113688, 218.2874588381937, 229.20183178010342, 240.66192336910856, 252.69501953756404, 265.3297705144422, 278.59625904016434, 292.5260719921726, 307.1523755917812, 322.5099943713703, 338.63549408993885]\n",
      "[0, 1, 2, 3, 4, 5, 6, 7, 8, 9, 10, 11, 12, 13, 14, 15, 16, 17, 18, 19, 20, 21, 22, 23, 24, 25]\n"
     ]
    }
   ],
   "source": [
    "values = [100] \n",
    "years = [0] \n",
    "for time in range(1,26): \n",
    "    values.append(compoundInterest(100,.05, time)) \n",
    "    years.append(time) \n",
    "print(values) \n",
    "print(years)"
   ]
  },
  {
   "cell_type": "code",
   "execution_count": 6,
   "metadata": {},
   "outputs": [
    {
     "name": "stdout",
     "output_type": "stream",
     "text": [
      "100\n",
      "105.0\n"
     ]
    }
   ],
   "source": [
    "print(values[0])\n",
    "print(values[1])"
   ]
  },
  {
   "cell_type": "code",
   "execution_count": 7,
   "metadata": {},
   "outputs": [
    {
     "data": {
      "image/png": "[encoded data removed]",
      "text/plain": [
       "<matplotlib.figure.Figure at 0x1091ae898>"
      ]
     },
     "metadata": {},
     "output_type": "display_data"
    }
   ],
   "source": [
    "import matplotlib.pyplot as plt\n",
    "plt.plot(years, values)\n",
    "plt.show()"
   ]
  },
  {
   "cell_type": "code",
   "execution_count": 8,
   "metadata": {
    "collapsed": true
   },
   "outputs": [],
   "source": [
    "def createArray(p,r,t):\n",
    "    values = [p]\n",
    "    years =[0]\n",
    "    for time in range(1,t+1):\n",
    "        values.append(compoundInterest(p,r, time))\n",
    "        years.append(time)\n",
    "    return values,years"
   ]
  },
  {
   "cell_type": "code",
   "execution_count": 9,
   "metadata": {},
   "outputs": [
    {
     "data": {
      "image/png": "[encoded data removed]",
      "text/plain": [
       "<matplotlib.figure.Figure at 0x11297fa90>"
      ]
     },
     "metadata": {},
     "output_type": "display_data"
    }
   ],
   "source": [
    "import matplotlib.pyplot as plt\n",
    "values,years = createArray(100,.02,25)\n",
    "plt.plot(years, values, \"r\")\n",
    "values,years = createArray(100,.07,25)\n",
    "plt.plot(years, values, \"g\")\n",
    "values,years = createArray(100,.14,25)\n",
    "plt.plot(years, values, \"b\")\n",
    "plt.show()"
   ]
  }
 ],
 "metadata": {
  "kernelspec": {
   "display_name": "Python 3",
   "language": "python",
   "name": "python3"
  },
  "language_info": {
   "codemirror_mode": {
    "name": "ipython",
    "version": 3
   },
   "file_extension": ".py",
   "mimetype": "text/x-python",
   "name": "python",
   "nbconvert_exporter": "python",
   "pygments_lexer": "ipython3",
   "version": "3.6.1"
  }
 },
 "nbformat": 4,
 "nbformat_minor": 2
}
