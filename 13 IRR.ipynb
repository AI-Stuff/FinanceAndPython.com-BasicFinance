{
 "cells": [
  {
   "cell_type": "code",
   "execution_count": 1,
   "metadata": {
    "collapsed": true
   },
   "outputs": [],
   "source": [
    "def TVM(p,r,t,type):\n",
    "    discount = (1+r)**t\n",
    "    if type==\"FV\":\n",
    "        A = p*discount\n",
    "        return A\n",
    "    if type==\"PV\":\n",
    "        A = p/discount\n",
    "        return A\n",
    "\n",
    "def totalTVM(rate,payments,years):\n",
    "    total = 0\n",
    "    for index in range(0,len(payments)):\n",
    "        total+= TVM(payments[index],years[index],rate,\"PV\")\n",
    "    return total"
   ]
  },
  {
   "cell_type": "code",
   "execution_count": 2,
   "metadata": {},
   "outputs": [
    {
     "data": {
      "image/png": "[encoded data removed]",
      "text/plain": [
       "<matplotlib.figure.Figure at 0x1066d49e8>"
      ]
     },
     "metadata": {},
     "output_type": "display_data"
    }
   ],
   "source": [
    "import matplotlib.pyplot as plt\n",
    "r=0\n",
    "payments=[-300,100,150,50,50]\n",
    "years=[0,2,4,6,8]\n",
    "rates = []\n",
    "values= []\n",
    "for _ in range(20):\n",
    "    \n",
    "    rates+=[r]\n",
    "    v=totalTVM(r,payments,years)\n",
    "    values +=[v]\n",
    "    r+=.01\n",
    "plt.plot(rates,values)\n",
    "plt.xlabel(\"IRR\")\n",
    "plt.ylabel(\"Present Value\")\n",
    "plt.title(\"Finding IRR\")\n",
    "plt.show()"
   ]
  },
  {
   "cell_type": "code",
   "execution_count": 3,
   "metadata": {},
   "outputs": [
    {
     "data": {
      "text/plain": [
       "0.097026857685357931"
      ]
     },
     "execution_count": 3,
     "metadata": {},
     "output_type": "execute_result"
    }
   ],
   "source": [
    "from scipy.optimize import fsolve\n",
    "def findIRR(payments,years):\n",
    "    return fsolve(totalTVM, 0,(payments,years))[0]\n",
    "findIRR(payments,years)"
   ]
  }
 ],
 "metadata": {
  "anaconda-cloud": {},
  "kernelspec": {
   "display_name": "Python 3",
   "language": "python",
   "name": "python3"
  },
  "language_info": {
   "codemirror_mode": {
    "name": "ipython",
    "version": 3
   },
   "file_extension": ".py",
   "mimetype": "text/x-python",
   "name": "python",
   "nbconvert_exporter": "python",
   "pygments_lexer": "ipython3",
   "version": "3.6.1"
  }
 },
 "nbformat": 4,
 "nbformat_minor": 1
}
